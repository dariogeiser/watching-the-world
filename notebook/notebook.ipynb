{
 "cells": [
  {
   "cell_type": "raw",
   "metadata": {},
   "source": [
    "\n"
   ],
   "id": "74317338"
  },
  {
   "cell_type": "code",
   "metadata": {
    "ExecuteTime": {
     "end_time": "2024-06-09T13:32:34.083577400Z",
     "start_time": "2024-06-09T13:32:31.980800200Z"
    }
   },
   "source": [
    "import pandas as pd\n",
    "import matplotlib.pyplot as plt\n",
    "\n",
    "df_cams = pd.read_csv('data/cams.csv')\n",
    "df_results = pd.read_csv('data/results.csv', parse_dates=['dateSaved'])\n",
    "\n",
    "filtered_df = df_results[df_results['probability'] > 0.7]\n",
    "\n",
    "object_counts = filtered_df['class'].value_counts()"
   ],
   "id": "476cc1ce",
   "execution_count": null,
   "outputs": []
  },
  {
   "cell_type": "markdown",
   "metadata": {},
   "source": [
    "## Where the Cameras are"
   ],
   "id": "94d0c768"
  },
  {
   "cell_type": "code",
   "metadata": {
    "ExecuteTime": {
     "end_time": "2024-06-09T13:32:39.596875700Z",
     "start_time": "2024-06-09T13:32:38.964115100Z"
    }
   },
   "source": [
    "def country_to_continent(country):\n",
    "    continent_map = {\n",
    "        'Africa': ['Algeria', 'Angola', 'Benin', 'Botswana', 'Burkina Faso', 'Burundi', 'Cabo Verde', 'Cameroon', 'Central African Republic', 'Chad', 'Comoros', 'Congo', 'Djibouti', 'Egypt', 'Equatorial Guinea', 'Eritrea', 'Eswatini', 'Ethiopia', 'Gabon', 'Gambia', 'Ghana', 'Guinea', 'Guinea-Bissau', 'Ivory Coast', 'Kenya', 'Lesotho', 'Liberia', 'Libya', 'Madagascar', 'Malawi', 'Mali', 'Mauritania', 'Mauritius', 'Morocco', 'Mozambique', 'Namibia', 'Niger', 'Nigeria', 'Rwanda', 'Sao Tome and Principe', 'Senegal', 'Seychelles', 'Sierra Leone', 'Somalia', 'South Africa', 'South Sudan', 'Sudan', 'Tanzania', 'Togo', 'Tunisia', 'Uganda', 'Zambia', 'Zimbabwe'],\n",
    "        'Asia': ['Afghanistan', 'Armenia', 'Azerbaijan', 'Bahrain', 'Bangladesh', 'Bhutan', 'Brunei', 'Cambodia', 'China', 'Cyprus', 'Georgia', 'India', 'Indonesia', 'Iran', 'Iraq', 'Israel', 'Japan', 'Jordan', 'Kazakhstan', 'Kuwait', 'Kyrgyzstan', 'Laos', 'Lebanon', 'Malaysia', 'Maldives', 'Mongolia', 'Myanmar', 'Nepal', 'North Korea', 'Oman', 'Pakistan', 'Palestine', 'Philippines', 'Qatar', 'Saudi Arabia', 'Singapore', 'South Korea', 'Sri Lanka', 'Syria', 'Taiwan', 'Tajikistan', 'Thailand', 'Timor-Leste', 'Turkey', 'Turkmenistan', 'United Arab Emirates', 'Uzbekistan', 'Vietnam', 'Yemen', 'Hong Kong', 'Palestinian Territory'],\n",
    "        'Europe': ['Albania', 'Andorra', 'Austria', 'Belarus', 'Belgium', 'Bosnia and Herzegovina', 'Bulgaria', 'Croatia', 'Czech Republic', 'Denmark', 'Estonia', 'Faroe Islands', 'Finland', 'France', 'Germany', 'Greece', 'Greenland', 'Hungary', 'Iceland', 'Ireland', 'Italy', 'Kosovo', 'Latvia', 'Liechtenstein', 'Lithuania', 'Luxembourg', 'Malta', 'Moldova', 'Monaco', 'Montenegro', 'Netherlands', 'North Macedonia', 'Norway', 'Poland', 'Portugal', 'Romania', 'Russia', 'San Marino', 'Serbia', 'Slovakia', 'Slovenia', 'Spain', 'Sweden', 'Switzerland', 'Ukraine', 'United Kingdom', 'Vatican City'],\n",
    "        'North America': ['Antigua and Barbuda', 'Bahamas', 'Barbados', 'Belize', 'Canada', 'Costa Rica', 'Cuba', 'Dominica', 'Dominican Republic', 'El Salvador', 'Grenada', 'Guatemala', 'Haiti', 'Honduras', 'Jamaica', 'Mexico', 'Nicaragua', 'Panama', 'Puerto Rico', 'Saint Kitts and Nevis', 'Saint Lucia', 'Saint Vincent and the Grenadines', 'Trinidad and Tobago', 'United States'],\n",
    "        'Oceania': ['Australia', 'Fiji', 'Kiribati', 'Marshall Islands', 'Micronesia', 'Nauru', 'New Caledonia', 'New Zealand', 'Palau', 'Papua New Guinea', 'Samoa', 'Solomon Islands', 'Tonga', 'Tuvalu', 'Vanuatu'],\n",
    "        'South America': ['Argentina', 'Bolivia', 'Brazil', 'Chile', 'Colombia', 'Ecuador', 'French Guiana', 'Guyana', 'Paraguay', 'Peru', 'Suriname', 'Uruguay', 'Venezuela', 'Guadeloupe']\n",
    "    }\n",
    "    \n",
    "    for continent, countries in continent_map.items():\n",
    "        if country in countries:\n",
    "            return continent\n",
    "\n",
    "df_cams['continent'] = df_cams['country_name'].apply(country_to_continent)\n",
    "\n",
    "camera_counts_by_continent = df_cams['continent'].value_counts()\n",
    "\n",
    "plt.figure(figsize=(10, 6))\n",
    "camera_counts_by_continent.plot(kind='bar', color='black')\n",
    "plt.xlabel('Continent', fontsize=14)\n",
    "plt.ylabel('Number of Cameras', fontsize=14)\n",
    "plt.title('Number of Cameras by Continent', fontsize=16)\n",
    "plt.xticks(rotation=45, fontsize=12)\n",
    "plt.yticks(fontsize=12)\n",
    "plt.show()"
   ],
   "id": "7f16e253",
   "execution_count": null,
   "outputs": []
  },
  {
   "cell_type": "markdown",
   "metadata": {},
   "source": [
    "First, let's look at where these cameras are even located. The bar chart above shows the distribution of cameras across different continents. We can see that Europe has the highest number of cameras which is 10'674, followed by North America with 6'541 cameras, although almost all cameras in north america are located in the USA. With 1'725, asia has a significant number of cameras as well, altough it is much lower than the previous two, while Oceania, South America, and Africa have comparatively fewer cameras being 502, 219 and 46 respectively. This distribution highlights the concentration of surveillance infrastructure in more developed regions. \n",
    "\n",
    "For a more interactive view we encourage you to look at the camera distribution with the dashboard above.\n",
    "\n",
    "## What the cameras saw\n"
   ],
   "id": "ab1df144"
  },
  {
   "cell_type": "code",
   "metadata": {
    "ExecuteTime": {
     "end_time": "2024-06-09T13:32:39.765424300Z",
     "start_time": "2024-06-09T13:32:39.593877300Z"
    }
   },
   "source": [
    "plt.figure(figsize=(10, 6))\n",
    "object_counts.head(10).plot(kind='bar', color='black')\n",
    "plt.xlabel('Objects', fontsize=14)\n",
    "plt.ylabel('Count', fontsize=14)\n",
    "plt.title('Top 10 Most Frequently Detected Objects', fontsize=16)\n",
    "plt.xticks(rotation=45)\n",
    "plt.show()"
   ],
   "id": "8fe75022",
   "execution_count": null,
   "outputs": []
  },
  {
   "cell_type": "code",
   "metadata": {
    "ExecuteTime": {
     "end_time": "2024-06-09T13:32:44.230899400Z",
     "start_time": "2024-06-09T13:32:39.779428200Z"
    }
   },
   "source": [
    "def country_to_continent(country):\n",
    "    continent_map = {\n",
    "        'Asia': ['Afghanistan', 'Armenia', 'Azerbaijan', 'Bahrain', 'Bangladesh', 'Bhutan', 'Brunei', 'Cambodia', 'China', 'Cyprus', 'Georgia', 'India', 'Indonesia', 'Iran', 'Iraq', 'Israel', 'Japan', 'Jordan', 'Kazakhstan', 'Kuwait', 'Kyrgyzstan', 'Laos', 'Lebanon', 'Malaysia', 'Maldives', 'Mongolia', 'Myanmar', 'Nepal', 'North Korea', 'Oman', 'Pakistan', 'Palestine', 'Philippines', 'Qatar', 'Saudi Arabia', 'Singapore', 'South Korea', 'Sri Lanka', 'Syria', 'Taiwan', 'Tajikistan', 'Thailand', 'Timor-Leste', 'Turkey', 'Turkmenistan', 'United Arab Emirates', 'Uzbekistan', 'Vietnam', 'Yemen', 'Hong Kong', 'Palestinian Territory'],\n",
    "        'Europe': ['Albania', 'Andorra', 'Austria', 'Belarus', 'Belgium', 'Bosnia and Herzegovina', 'Bulgaria', 'Croatia', 'Czech Republic', 'Denmark', 'Estonia', 'Faroe Islands', 'Finland', 'France', 'Germany', 'Greece', 'Greenland', 'Hungary', 'Iceland', 'Ireland', 'Italy', 'Kosovo', 'Latvia', 'Liechtenstein', 'Lithuania', 'Luxembourg', 'Malta', 'Moldova', 'Monaco', 'Montenegro', 'Netherlands', 'North Macedonia', 'Norway', 'Poland', 'Portugal', 'Romania', 'Russia', 'San Marino', 'Serbia', 'Slovakia', 'Slovenia', 'Spain', 'Sweden', 'Switzerland', 'Ukraine', 'United Kingdom', 'Vatican City'],\n",
    "        'North America': ['Antigua and Barbuda', 'Bahamas', 'Barbados', 'Belize', 'Canada', 'Costa Rica', 'Cuba', 'Dominica', 'Dominican Republic', 'El Salvador', 'Grenada', 'Guatemala', 'Haiti', 'Honduras', 'Jamaica', 'Mexico', 'Nicaragua', 'Panama', 'Puerto Rico', 'Saint Kitts and Nevis', 'Saint Lucia', 'Saint Vincent and the Grenadines', 'Trinidad and Tobago', 'United States'],\n",
    "    }\n",
    "    \n",
    "    for continent, countries in continent_map.items():\n",
    "        if country in countries:\n",
    "            return continent\n",
    "    return 'Other'\n",
    "\n",
    "\n",
    "merged_df = pd.merge(df_results, df_cams, on='camId')\n",
    "\n",
    "merged_df['continent'] = merged_df['country_name'].apply(country_to_continent)\n",
    "\n",
    "class_continent_counts = merged_df.groupby(['continent', 'class']).size().unstack().fillna(0)\n",
    "\n",
    "top_classes = class_continent_counts.sum().sort_values(ascending=False).head(10).index\n",
    "filtered_class_continent_counts = class_continent_counts[top_classes]\n",
    "\n",
    "ax = filtered_class_continent_counts.plot(kind='bar', stacked=True, figsize=(4, 11))\n",
    "plt.xlabel('Continent', fontsize=12)\n",
    "plt.ylabel('Number of Detections', fontsize=12)\n",
    "plt.title('Top 10 Most Frequently Detected Objects by Continent', fontsize=14)\n",
    "\n",
    "handles, labels = ax.get_legend_handles_labels()\n",
    "ax.legend(handles, labels, title='Class', bbox_to_anchor=(1.05, 1), loc='upper left')\n",
    "\n",
    "plt.xticks(rotation=45, fontsize=10)\n",
    "\n",
    "max_y = int(filtered_class_continent_counts.sum(axis=1).max())\n",
    "plt.yticks(range(0, max_y + 50000, 50000), fontsize=10)  \n",
    "\n",
    "plt.show()"
   ],
   "id": "dc432139",
   "execution_count": null,
   "outputs": []
  },
  {
   "cell_type": "markdown",
   "metadata": {},
   "source": [
    "Next, let's explore what these cameras detected the most, both overall and by continent. The first bar chart shows the top ten most frequently detected objects. Cars and people are the most common, each being detected over 200,000 times. Trains come next, highlighting significant transportation monitoring. Other frequent detections include benches, TVs, airplanes, boats, beds, chairs, and traffic lights. This variety shows that surveillance cameras capture a wide range of activities and objects, monitoring both human actions and static items.\n",
    "\n",
    "The second bar chart breaks down these detections by continent. Europe has the highest number of detections, especially for cars and people, reflecting its extensive surveillance network. North America also shows a high number of detections with a similar pattern. Asia, though having fewer cameras, still shows a diverse range of detected objects. This chart highlights how surveillance varies across regions and what types of activities are most commonly monitored in different parts of the world.\n",
    "\n",
    "Let's continue by going into more detail on the object that the cameras detected the most, cars.\n",
    "\n",
    "## Car detection in more detail\n"
   ],
   "id": "099fda0d"
  },
  {
   "cell_type": "code",
   "metadata": {
    "ExecuteTime": {
     "end_time": "2024-06-09T13:32:52.168073700Z",
     "start_time": "2024-06-09T13:32:44.237905Z"
    }
   },
   "source": [
    "def country_to_continent(country):\n",
    "    continent_map = {\n",
    "        'Africa': ['Algeria', 'Angola', 'Benin', 'Botswana', 'Burkina Faso', 'Burundi', 'Cabo Verde', 'Cameroon', 'Central African Republic', 'Chad', 'Comoros', 'Congo', 'Djibouti', 'Egypt', 'Equatorial Guinea', 'Eritrea', 'Eswatini', 'Ethiopia', 'Gabon', 'Gambia', 'Ghana', 'Guinea', 'Guinea-Bissau', 'Ivory Coast', 'Kenya', 'Lesotho', 'Liberia', 'Libya', 'Madagascar', 'Malawi', 'Mali', 'Mauritania', 'Mauritius', 'Morocco', 'Mozambique', 'Namibia', 'Niger', 'Nigeria', 'Rwanda', 'Sao Tome and Principe', 'Senegal', 'Seychelles', 'Sierra Leone', 'Somalia', 'South Africa', 'South Sudan', 'Sudan', 'Tanzania', 'Togo', 'Tunisia', 'Uganda', 'Zambia', 'Zimbabwe'],\n",
    "        'Asia': ['Afghanistan', 'Armenia', 'Azerbaijan', 'Bahrain', 'Bangladesh', 'Bhutan', 'Brunei', 'Cambodia', 'China', 'Cyprus', 'Georgia', 'India', 'Indonesia', 'Iran', 'Iraq', 'Israel', 'Japan', 'Jordan', 'Kazakhstan', 'Kuwait', 'Kyrgyzstan', 'Laos', 'Lebanon', 'Malaysia', 'Maldives', 'Mongolia', 'Myanmar', 'Nepal', 'North Korea', 'Oman', 'Pakistan', 'Palestine', 'Philippines', 'Qatar', 'Saudi Arabia', 'Singapore', 'South Korea', 'Sri Lanka', 'Syria', 'Taiwan', 'Tajikistan', 'Thailand', 'Timor-Leste', 'Turkey', 'Turkmenistan', 'United Arab Emirates', 'Uzbekistan', 'Vietnam', 'Yemen', 'Hong Kong', 'Palestinian Territory'],\n",
    "        'Europe': ['Albania', 'Andorra', 'Austria', 'Belarus', 'Belgium', 'Bosnia and Herzegovina', 'Bulgaria', 'Croatia', 'Czech Republic', 'Denmark', 'Estonia', 'Faroe Islands', 'Finland', 'France', 'Germany', 'Greece', 'Greenland', 'Hungary', 'Iceland', 'Ireland', 'Italy', 'Kosovo', 'Latvia', 'Liechtenstein', 'Lithuania', 'Luxembourg', 'Malta', 'Moldova', 'Monaco', 'Montenegro', 'Netherlands', 'North Macedonia', 'Norway', 'Poland', 'Portugal', 'Romania', 'Russia', 'San Marino', 'Serbia', 'Slovakia', 'Slovenia', 'Spain', 'Sweden', 'Switzerland', 'Ukraine', 'United Kingdom', 'Vatican City', 'Macedonia'],\n",
    "        'North America': ['Antigua and Barbuda', 'Bahamas', 'Barbados', 'Belize', 'Canada', 'Costa Rica', 'Cuba', 'Dominica', 'Dominican Republic', 'El Salvador', 'Grenada', 'Guatemala', 'Haiti', 'Honduras', 'Jamaica', 'Mexico', 'Nicaragua', 'Panama', 'Puerto Rico', 'Saint Kitts and Nevis', 'Saint Lucia', 'Saint Vincent and the Grenadines', 'Trinidad and Tobago', 'United States'],\n",
    "        'Oceania': ['Australia', 'Fiji', 'Kiribati', 'Marshall Islands', 'Micronesia', 'Nauru', 'New Caledonia', 'New Zealand', 'Palau', 'Papua New Guinea', 'Samoa', 'Solomon Islands', 'Tonga', 'Tuvalu', 'Vanuatu'],\n",
    "        'South America': ['Argentina', 'Bolivia', 'Brazil', 'Chile', 'Colombia', 'Ecuador', 'French Guiana', 'Guyana', 'Paraguay', 'Peru', 'Suriname', 'Uruguay', 'Venezuela', 'Guadeloupe']\n",
    "    }\n",
    "    \n",
    "    for continent, countries in continent_map.items():\n",
    "        if country in countries:\n",
    "            return continent\n",
    "\n",
    "merged_df = pd.merge(df_results, df_cams, on='camId')\n",
    "\n",
    "merged_df['continent'] = merged_df['country_name'].apply(country_to_continent)\n",
    "\n",
    "car_df = merged_df[merged_df['class'] == 'car']\n",
    "\n",
    "continent_car_counts = car_df['continent'].value_counts()\n",
    "\n",
    "plt.figure(figsize=(10, 6))\n",
    "continent_car_counts.plot(kind='bar', color='black')\n",
    "plt.xlabel('Continent', fontsize=14)\n",
    "plt.ylabel('Count', fontsize=14)\n",
    "plt.title('Frequency of Car Detections by Continent', fontsize=16)\n",
    "plt.xticks(rotation=45, fontsize=12)\n",
    "plt.yticks(fontsize=12)\n",
    "plt.show()"
   ],
   "id": "b59849be",
   "execution_count": null,
   "outputs": []
  },
  {
   "cell_type": "markdown",
   "metadata": {},
   "source": [
    "The frequency of car detections across different continents reveals that Europe leads with the highest number of car detections (187'571), followed by North America, with a little over a third of the detected cars (65'791). This indicates a significant focus on traffic monitoring in these regions. In contrast, Asia (17'124), Oceania (14'310), South America (958), and Africa (268) have considerably fewer car detections, due to fewer cameras and different surveillance priorities.\n",
    "\n",
    "This is slightly surprising since a quick google search shows that the USA and the european continent have about the same number of registered cars, the USA alone having only 5% less than the entire european continent (Europe has 297'170'530 and the USA has 283'400'986 registered vehicles). \n",
    "\n",
    "While true that europe has many more cameras, with North America only having about 61% of the number of cameras that Europe has, that alone would not explain why North America only detects about 35% as many cars as are detected in Europe. This suggests that european cameras concentrate much more on the streets.\n",
    "\n"
   ],
   "id": "78c4fe0d"
  },
  {
   "cell_type": "code",
   "metadata": {
    "ExecuteTime": {
     "end_time": "2024-06-09T13:32:52.463951200Z",
     "start_time": "2024-06-09T13:32:52.169077100Z"
    }
   },
   "source": [
    "filtered_df = df_results[df_results['probability'] > 0.7].copy()\n",
    "\n",
    "filtered_df['dateSaved'] = pd.to_datetime(filtered_df['dateSaved'])\n",
    "filtered_df['date'] = filtered_df['dateSaved'].dt.date\n",
    "filtered_df['hour'] = filtered_df['dateSaved'].dt.hour\n",
    "\n",
    "filtered_df_cars = filtered_df[filtered_df['class'] == 'car']\n",
    "\n",
    "count_by_hour = filtered_df_cars.groupby('hour').size() / filtered_df_cars['date'].nunique()\n",
    "\n",
    "top_hours = count_by_hour.nlargest(2).index\n",
    "\n",
    "plt.figure(figsize=(10, 6))\n",
    "bars = plt.bar(count_by_hour.index, count_by_hour.values, color='black')\n",
    "\n",
    "for bar in bars:\n",
    "    if bar.get_x() + bar.get_width() / 2 in top_hours:\n",
    "        bar.set_color('red')\n",
    "\n",
    "plt.xlabel('Hour of the day', fontsize=14)\n",
    "plt.ylabel('Average Number of Occurrences', fontsize=14)\n",
    "plt.title('Average Count of Car Detections for Each Hour', fontsize=16)\n",
    "plt.xticks(range(24), fontsize=12)\n",
    "plt.yticks(fontsize=12)\n",
    "plt.show()"
   ],
   "id": "dadde14b",
   "execution_count": null,
   "outputs": []
  },
  {
   "cell_type": "markdown",
   "metadata": {},
   "source": [
    "The average number of car detections throughout the day highlights the busiest times for traffic or monitored activities. The data shows a distinct peak around midday, with the highest occurrences between 1 PM and 2 PM. This pattern offers insights into daily traffic flow and peak hours, showing when surveillance is most active.\n"
   ],
   "id": "9cca8f25"
  },
  {
   "cell_type": "code",
   "metadata": {
    "ExecuteTime": {
     "end_time": "2024-06-09T13:32:52.621120500Z",
     "start_time": "2024-06-09T13:32:52.469961400Z"
    }
   },
   "source": [
    "color_columns = {\n",
    "    'idxGreen': 'Green',\n",
    "    'idxBlue': 'Blue',\n",
    "    'idxRed': 'Red',\n",
    "    'idxBlack': 'Black',\n",
    "    'idxWhite': 'White'\n",
    "}\n",
    "\n",
    "color_map = {\n",
    "    'Green': 'green',\n",
    "    'Blue': 'blue',\n",
    "    'Red': 'red',\n",
    "    'Black': 'black',\n",
    "    'White': 'gray'\n",
    "}\n",
    "\n",
    "color_counts = filtered_df[list(color_columns.keys())].sum()\n",
    "\n",
    "color_counts.index = color_counts.index.map(color_columns)\n",
    "\n",
    "plt.figure(figsize=(10, 6))\n",
    "bars = plt.bar(color_counts.index, color_counts.values, color=[color_map[color] for color in color_counts.index])\n",
    "plt.xlabel('Colors', fontsize=14)\n",
    "plt.ylabel('Count', fontsize=14)\n",
    "plt.title('Frequency of Detected Colors', fontsize=16)\n",
    "plt.xticks(rotation=45, fontsize=12)\n",
    "plt.yticks(fontsize=12)\n",
    "plt.show()"
   ],
   "id": "82f942f7",
   "execution_count": null,
   "outputs": []
  },
  {
   "cell_type": "markdown",
   "metadata": {},
   "source": [
    "Examining the frequency of detected colors, the data shows that black and blue are the most commonly detected colors, followed by white and red. Green appears the least frequently among the analyzed colors. This color distribution likely reflects common vehicle colors, clothing, or other objects regularly seen by the cameras. The prominence of specific colors provides an interesting perspective on the visual characteristics of monitored scenes.\n",
    "\n",
    "These visualizations collectively offer a comprehensive view of global surveillance trends. From the geographical distribution of cameras to the specific objects and patterns detected, we gain valuable insights into the extent and focus of surveillance across different regions and times. This analysis not only highlights the practical applications of surveillance but also raises important considerations regarding privacy and data usage.\n",
    "\n",
    "\n"
   ],
   "id": "978ff4bf"
  }
 ],
 "metadata": {
  "kernelspec": {
   "name": "python3",
   "language": "python",
   "display_name": "Python 3 (ipykernel)"
  }
 },
 "nbformat": 4,
 "nbformat_minor": 5
}
